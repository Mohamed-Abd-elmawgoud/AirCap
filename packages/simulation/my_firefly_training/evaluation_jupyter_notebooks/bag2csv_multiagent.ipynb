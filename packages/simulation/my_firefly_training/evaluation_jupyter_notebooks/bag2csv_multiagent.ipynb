{
 "cells": [
  {
   "cell_type": "markdown",
   "metadata": {},
   "source": [
    "# Multiagent  Experiments Bag Recording Scripts, Plots and CSVs\n",
    "\n",
    "Below we combine the data from from rosbags, analyse them save as csv. \n",
    "\n",
    "#### Import Libraries"
   ]
  },
  {
   "cell_type": "code",
   "execution_count": 53,
   "metadata": {},
   "outputs": [],
   "source": [
    "import rosbag\n",
    "from geometry_msgs.msg import PoseWithCovarianceStamped, PointStamped\n",
    "import os\n",
    "import matplotlib.pyplot as plt\n",
    "import numpy as np\n",
    "import random\n",
    "BOLD = '\\033[1m'\n",
    "NORMAL = '\\033[0m'"
   ]
  },
  {
   "cell_type": "markdown",
   "metadata": {},
   "source": [
    "#### Print All Bag Names"
   ]
  },
  {
   "cell_type": "code",
   "execution_count": 54,
   "metadata": {},
   "outputs": [
    {
     "name": "stdout",
     "output_type": "stream",
     "text": [
      "\u001b[1mList of bags:\u001b[0m['ma_aircap12_2020-05-15-02-53-46.bag', 'ma_aircap17_2020-05-15-03-12-04.bag', 'ma_aircap5_2020-05-15-02-28-09.bag', 'ma_aircap16_2020-05-15-03-08-24.bag', 'ma_aircap2_2020-05-15-02-17-11.bag', 'ma_aircap8_2020-05-15-02-39-07.bag', 'ma_aircap1_2020-05-15-02-13-31.bag', 'ma_aircap4_2020-05-15-02-24-30.bag', 'ma_aircap10_2020-05-15-02-46-26.bag', 'ma_aircap3_2020-05-15-02-20-50.bag', 'ma_aircap19_2020-05-15-03-19-23.bag', 'ma_aircap18_2020-05-15-03-15-44.bag', 'ma_aircap9_2020-05-15-02-42-47.bag', 'ma_aircap6_2020-05-15-02-31-49.bag', 'ma_aircap11_2020-05-15-02-50-06.bag', 'ma_aircap14_2020-05-15-03-01-05.bag', 'ma_aircap13_2020-05-15-02-57-26.bag', 'ma_aircap0_2020-05-15-02-09-51.bag', 'ma_aircap15_2020-05-15-03-04-45.bag']\n",
      "\u001b[1m\n",
      " List of Topics Recorded:\u001b[0m['/machine_2/triangulated_alpha_root_cov_10', '/machine_2/triangulated_alpha_root_cov_11', '/machine_2/triangulated_alpha_root_cov_12', '/machine_2/triangulated_alpha_root_cov_13', '/multihmr_joints', '/machine_1/triangulated_alpha_root_cov_11', '/machine_1/triangulated_alpha_root_cov_10', '/machine_1/triangulated_alpha_root_cov_13', '/machine_1/triangulated_alpha_root_cov_12', '/machine_2/triangulated_alpha_root_cov_6', '/machine_2/triangulated_alpha_root_cov_4', '/machine_2/triangulated_alpha_root_cov_5', '/machine_2/triangulated_alpha_root_cov_2', '/machine_2/triangulated_alpha_root_cov_3', '/machine_2/triangulated_alpha_root_cov_1', '/machine_2/triangulated_alpha_root_cov_8', '/machine_2/triangulated_alpha_root_cov_9', '/machine_1/triangulated_root_cov_12', '/machine_2/triangulated_root_cov_12', '/machine_2/triangulated_root_cov_11', '/machine_2/triangulated_root_cov_10', '/machine_2/triangulated_weighted_root_cov_10', '/machine_2/triangulated_weighted_root_cov_11', '/machine_2/triangulated_weighted_root_cov_12', '/machine_2/triangulated_weighted_root_cov_13', '/machine_1/result_alpha', '/machine_2/triangulated_weighted_root_cov_2', '/machine_2/triangulated_weighted_root_cov_3', '/machine_2/triangulated_weighted_root_cov_0', '/machine_2/triangulated_weighted_root_cov_1', '/machine_2/triangulated_weighted_root_cov_6', '/machine_2/triangulated_weighted_root_cov_7', '/machine_2/triangulated_weighted_root_cov_4', '/machine_2/triangulated_weighted_root_cov_5', '/machine_2/triangulated_weighted_root_cov_8', '/machine_2/triangulated_weighted_root_cov_9', '/tf', '/machine_2/triangulated_root_cov_9', '/machine_2/triangulated_root_cov_8', '/machine_2/triangulated_root_cov_3', '/machine_2/triangulated_root_cov_2', '/machine_2/triangulated_root_cov_1', '/machine_2/triangulated_root_cov_0', '/machine_2/triangulated_root_cov_7', '/machine_2/triangulated_root_cov_6', '/machine_2/triangulated_root_cov_5', '/machine_2/triangulated_root_cov_4', '/machine_1/triangulated_alpha_root_cov_9', '/machine_1/triangulated_alpha_root_cov_8', '/machine_1/triangulated_alpha_root_cov_5', '/machine_1/triangulated_alpha_root_cov_4', '/machine_1/triangulated_alpha_root_cov_6', '/machine_1/triangulated_alpha_root_cov_1', '/machine_1/triangulated_alpha_root_cov_3', '/machine_1/triangulated_alpha_root_cov_2', '/machine_1/centering', '/machine_2/result_alpha', '/machine_1/triangulated_root_cov_0', '/machine_1/triangulated_root_cov_1', '/machine_1/triangulated_root_cov_2', '/machine_1/triangulated_root_cov_3', '/machine_1/triangulated_root_cov_4', '/machine_1/triangulated_root_cov_5', '/machine_1/triangulated_root_cov_6', '/machine_1/triangulated_root_cov_7', '/machine_1/triangulated_root_cov_8', '/machine_1/triangulated_root_cov_9', '/machine_1/triangulated_weighted_root_cov_13', '/machine_1/triangulated_weighted_root_cov_12', '/machine_1/triangulated_weighted_root_cov_11', '/machine_1/triangulated_weighted_root_cov_10', '/machine_2/triangulated_root_cov_13', '/machine_1/triangulated_root_cov_13', '/machine_1/triangulated_root_cov_10', '/machine_1/triangulated_root_cov_11', '/machine_2/centering', '/machine_1/triangulated_weighted_root_cov_9', '/machine_1/triangulated_weighted_root_cov_8', '/machine_1/triangulated_weighted_root_cov_3', '/machine_1/triangulated_weighted_root_cov_2', '/machine_1/triangulated_weighted_root_cov_1', '/machine_1/triangulated_weighted_root_cov_0', '/machine_1/triangulated_weighted_root_cov_7', '/machine_1/triangulated_weighted_root_cov_6', '/machine_1/triangulated_weighted_root_cov_5', '/machine_1/triangulated_weighted_root_cov_4']\n"
     ]
    }
   ],
   "source": [
    "# sa or ma\n",
    "path = 'ma/'\n",
    "bags = os.listdir(path)\n",
    "print(BOLD+'List of bags:'+NORMAL+'{}'.format(bags))\n",
    "sample_bag = rosbag.Bag(path+bags[random.randint(0,20)])\n",
    "\n",
    "print(BOLD+'\\n List of Topics Recorded:'+NORMAL+'{}'.format(sample_bag.get_type_and_topic_info()[1].keys()))"
   ]
  },
  {
   "cell_type": "markdown",
   "metadata": {},
   "source": [
    "#### Choose Topics to Read"
   ]
  },
  {
   "cell_type": "code",
   "execution_count": 55,
   "metadata": {},
   "outputs": [
    {
     "name": "stdout",
     "output_type": "stream",
     "text": [
      "\u001b[1mjoint error topics:\u001b[0m['/machine_1/triangulated_weighted_root_cov_0', '/machine_1/triangulated_weighted_root_cov_1', '/machine_1/triangulated_weighted_root_cov_2', '/machine_1/triangulated_weighted_root_cov_3', '/machine_1/triangulated_weighted_root_cov_4', '/machine_1/triangulated_weighted_root_cov_5', '/machine_1/triangulated_weighted_root_cov_6', '/machine_1/triangulated_weighted_root_cov_7', '/machine_1/triangulated_weighted_root_cov_8', '/machine_1/triangulated_weighted_root_cov_9', '/machine_1/triangulated_weighted_root_cov_10', '/machine_1/triangulated_weighted_root_cov_11', '/machine_1/triangulated_weighted_root_cov_12', '/machine_1/triangulated_weighted_root_cov_13', '/machine_2/triangulated_weighted_root_cov_0', '/machine_2/triangulated_weighted_root_cov_1', '/machine_2/triangulated_weighted_root_cov_2', '/machine_2/triangulated_weighted_root_cov_3', '/machine_2/triangulated_weighted_root_cov_4', '/machine_2/triangulated_weighted_root_cov_5', '/machine_2/triangulated_weighted_root_cov_6', '/machine_2/triangulated_weighted_root_cov_7', '/machine_2/triangulated_weighted_root_cov_8', '/machine_2/triangulated_weighted_root_cov_9', '/machine_2/triangulated_weighted_root_cov_10', '/machine_2/triangulated_weighted_root_cov_11', '/machine_2/triangulated_weighted_root_cov_12', '/machine_2/triangulated_weighted_root_cov_13']\n"
     ]
    }
   ],
   "source": [
    "centering_topics = ['/machine_1/centering','/machine_2/centering']\n",
    "joints_topics = []\n",
    "for machine in range(1,3):\n",
    "    for joint in range(14):\n",
    "        joints_topics.append('/machine_'+str(machine)+'/triangulated_weighted_root_cov_'+str(joint))\n",
    "print(BOLD+'joint error topics:'+NORMAL+'{}'.format(joints_topics))"
   ]
  },
  {
   "cell_type": "markdown",
   "metadata": {},
   "source": [
    "#### Read chosen topics from all bags and append them to create a single array"
   ]
  },
  {
   "cell_type": "code",
   "execution_count": 72,
   "metadata": {},
   "outputs": [
    {
     "name": "stdout",
     "output_type": "stream",
     "text": [
      "\u001b[1mReading Centering Errors...\u001b[0m\n",
      "Reading ma_aircap12_2020-05-15-02-53-46.bag\n",
      "Reading ma_aircap17_2020-05-15-03-12-04.bag\n",
      "Reading ma_aircap5_2020-05-15-02-28-09.bag\n",
      "Reading ma_aircap16_2020-05-15-03-08-24.bag\n",
      "Reading ma_aircap2_2020-05-15-02-17-11.bag\n",
      "Reading ma_aircap8_2020-05-15-02-39-07.bag\n",
      "Reading ma_aircap1_2020-05-15-02-13-31.bag\n",
      "Reading ma_aircap4_2020-05-15-02-24-30.bag\n",
      "Reading ma_aircap10_2020-05-15-02-46-26.bag\n",
      "Reading ma_aircap3_2020-05-15-02-20-50.bag\n",
      "Reading ma_aircap19_2020-05-15-03-19-23.bag\n",
      "Reading ma_aircap18_2020-05-15-03-15-44.bag\n",
      "Reading ma_aircap9_2020-05-15-02-42-47.bag\n",
      "Reading ma_aircap6_2020-05-15-02-31-49.bag\n",
      "Reading ma_aircap11_2020-05-15-02-50-06.bag\n",
      "Reading ma_aircap14_2020-05-15-03-01-05.bag\n",
      "Reading ma_aircap13_2020-05-15-02-57-26.bag\n",
      "Reading ma_aircap0_2020-05-15-02-09-51.bag\n",
      "Reading ma_aircap15_2020-05-15-03-04-45.bag\n",
      "\u001b[1mReading Joint Errors...\u001b[0m\n",
      "Reading ma_aircap12_2020-05-15-02-53-46.bag\n",
      "Reading ma_aircap17_2020-05-15-03-12-04.bag\n"
     ]
    },
    {
     "ename": "KeyboardInterrupt",
     "evalue": "",
     "output_type": "error",
     "traceback": [
      "\u001b[0;31m---------------------------------------------------------------------------\u001b[0m",
      "\u001b[0;31mKeyboardInterrupt\u001b[0m                         Traceback (most recent call last)",
      "\u001b[0;32m<ipython-input-72-8da525fe9aca>\u001b[0m in \u001b[0;36m<module>\u001b[0;34m()\u001b[0m\n\u001b[1;32m     24\u001b[0m \u001b[0;32mprint\u001b[0m\u001b[0;34m(\u001b[0m\u001b[0mBOLD\u001b[0m\u001b[0;34m+\u001b[0m\u001b[0;34m'Reading Joint Errors...'\u001b[0m\u001b[0;34m+\u001b[0m\u001b[0mNORMAL\u001b[0m\u001b[0;34m)\u001b[0m\u001b[0;34m\u001b[0m\u001b[0m\n\u001b[1;32m     25\u001b[0m \u001b[0;32mfor\u001b[0m \u001b[0mbag\u001b[0m \u001b[0;32min\u001b[0m \u001b[0mbags\u001b[0m\u001b[0;34m:\u001b[0m\u001b[0;34m\u001b[0m\u001b[0m\n\u001b[0;32m---> 26\u001b[0;31m     \u001b[0mmessages\u001b[0m \u001b[0;34m=\u001b[0m \u001b[0mrosbag\u001b[0m\u001b[0;34m.\u001b[0m\u001b[0mBag\u001b[0m\u001b[0;34m(\u001b[0m\u001b[0mpath\u001b[0m\u001b[0;34m+\u001b[0m\u001b[0mbag\u001b[0m\u001b[0;34m)\u001b[0m\u001b[0;34m\u001b[0m\u001b[0m\n\u001b[0m\u001b[1;32m     27\u001b[0m     \u001b[0;32mprint\u001b[0m\u001b[0;34m(\u001b[0m\u001b[0;34m'Reading {}'\u001b[0m\u001b[0;34m.\u001b[0m\u001b[0mformat\u001b[0m\u001b[0;34m(\u001b[0m\u001b[0mbag\u001b[0m\u001b[0;34m)\u001b[0m\u001b[0;34m)\u001b[0m\u001b[0;34m\u001b[0m\u001b[0m\n\u001b[1;32m     28\u001b[0m     \u001b[0mjoints_data_dict\u001b[0m \u001b[0;34m=\u001b[0m \u001b[0;34m{\u001b[0m\u001b[0;34m}\u001b[0m\u001b[0;34m;\u001b[0m\u001b[0mmessage_counter\u001b[0m \u001b[0;34m=\u001b[0m \u001b[0;36m0\u001b[0m\u001b[0;34m\u001b[0m\u001b[0m\n",
      "\u001b[0;32m/opt/ros/melodic/lib/python2.7/dist-packages/rosbag/bag.pyc\u001b[0m in \u001b[0;36m__init__\u001b[0;34m(self, f, mode, compression, chunk_threshold, allow_unindexed, options, skip_index)\u001b[0m\n\u001b[1;32m    465\u001b[0m         \u001b[0mself\u001b[0m\u001b[0;34m.\u001b[0m\u001b[0m_encryptor\u001b[0m \u001b[0;34m=\u001b[0m \u001b[0m_ROSBagNoEncryptor\u001b[0m\u001b[0;34m(\u001b[0m\u001b[0;34m)\u001b[0m\u001b[0;34m\u001b[0m\u001b[0m\n\u001b[1;32m    466\u001b[0m \u001b[0;34m\u001b[0m\u001b[0m\n\u001b[0;32m--> 467\u001b[0;31m         \u001b[0mself\u001b[0m\u001b[0;34m.\u001b[0m\u001b[0m_open\u001b[0m\u001b[0;34m(\u001b[0m\u001b[0mf\u001b[0m\u001b[0;34m,\u001b[0m \u001b[0mmode\u001b[0m\u001b[0;34m,\u001b[0m \u001b[0mallow_unindexed\u001b[0m\u001b[0;34m)\u001b[0m\u001b[0;34m\u001b[0m\u001b[0m\n\u001b[0m\u001b[1;32m    468\u001b[0m \u001b[0;34m\u001b[0m\u001b[0m\n\u001b[1;32m    469\u001b[0m         \u001b[0mself\u001b[0m\u001b[0;34m.\u001b[0m\u001b[0m_output_file\u001b[0m \u001b[0;34m=\u001b[0m \u001b[0mself\u001b[0m\u001b[0;34m.\u001b[0m\u001b[0m_file\u001b[0m\u001b[0;34m\u001b[0m\u001b[0m\n",
      "\u001b[0;32m/opt/ros/melodic/lib/python2.7/dist-packages/rosbag/bag.pyc\u001b[0m in \u001b[0;36m_open\u001b[0;34m(self, f, mode, allow_unindexed)\u001b[0m\n\u001b[1;32m   1425\u001b[0m \u001b[0;34m\u001b[0m\u001b[0m\n\u001b[1;32m   1426\u001b[0m         \u001b[0;32mtry\u001b[0m\u001b[0;34m:\u001b[0m\u001b[0;34m\u001b[0m\u001b[0m\n\u001b[0;32m-> 1427\u001b[0;31m             \u001b[0;32mif\u001b[0m   \u001b[0mmode\u001b[0m \u001b[0;34m==\u001b[0m \u001b[0;34m'r'\u001b[0m\u001b[0;34m:\u001b[0m \u001b[0mself\u001b[0m\u001b[0;34m.\u001b[0m\u001b[0m_open_read\u001b[0m\u001b[0;34m(\u001b[0m\u001b[0mf\u001b[0m\u001b[0;34m,\u001b[0m \u001b[0mallow_unindexed\u001b[0m\u001b[0;34m)\u001b[0m\u001b[0;34m\u001b[0m\u001b[0m\n\u001b[0m\u001b[1;32m   1428\u001b[0m             \u001b[0;32melif\u001b[0m \u001b[0mmode\u001b[0m \u001b[0;34m==\u001b[0m \u001b[0;34m'w'\u001b[0m\u001b[0;34m:\u001b[0m \u001b[0mself\u001b[0m\u001b[0;34m.\u001b[0m\u001b[0m_open_write\u001b[0m\u001b[0;34m(\u001b[0m\u001b[0mf\u001b[0m\u001b[0;34m)\u001b[0m\u001b[0;34m\u001b[0m\u001b[0m\n\u001b[1;32m   1429\u001b[0m             \u001b[0;32melif\u001b[0m \u001b[0mmode\u001b[0m \u001b[0;34m==\u001b[0m \u001b[0;34m'a'\u001b[0m\u001b[0;34m:\u001b[0m \u001b[0mself\u001b[0m\u001b[0;34m.\u001b[0m\u001b[0m_open_append\u001b[0m\u001b[0;34m(\u001b[0m\u001b[0mf\u001b[0m\u001b[0;34m,\u001b[0m \u001b[0mallow_unindexed\u001b[0m\u001b[0;34m)\u001b[0m\u001b[0;34m\u001b[0m\u001b[0m\n",
      "\u001b[0;32m/opt/ros/melodic/lib/python2.7/dist-packages/rosbag/bag.pyc\u001b[0m in \u001b[0;36m_open_read\u001b[0;34m(self, f, allow_unindexed)\u001b[0m\n\u001b[1;32m   1461\u001b[0m         \u001b[0;32mtry\u001b[0m\u001b[0;34m:\u001b[0m\u001b[0;34m\u001b[0m\u001b[0m\n\u001b[1;32m   1462\u001b[0m             \u001b[0mself\u001b[0m\u001b[0;34m.\u001b[0m\u001b[0m_create_reader\u001b[0m\u001b[0;34m(\u001b[0m\u001b[0;34m)\u001b[0m\u001b[0;34m\u001b[0m\u001b[0m\n\u001b[0;32m-> 1463\u001b[0;31m             \u001b[0mself\u001b[0m\u001b[0;34m.\u001b[0m\u001b[0m_reader\u001b[0m\u001b[0;34m.\u001b[0m\u001b[0mstart_reading\u001b[0m\u001b[0;34m(\u001b[0m\u001b[0;34m)\u001b[0m\u001b[0;34m\u001b[0m\u001b[0m\n\u001b[0m\u001b[1;32m   1464\u001b[0m         \u001b[0;32mexcept\u001b[0m \u001b[0mROSBagUnindexedException\u001b[0m \u001b[0;32mas\u001b[0m \u001b[0mex\u001b[0m\u001b[0;34m:\u001b[0m\u001b[0;34m\u001b[0m\u001b[0m\n\u001b[1;32m   1465\u001b[0m             \u001b[0;32mif\u001b[0m \u001b[0;32mnot\u001b[0m \u001b[0mallow_unindexed\u001b[0m\u001b[0;34m:\u001b[0m\u001b[0;34m\u001b[0m\u001b[0m\n",
      "\u001b[0;32m/opt/ros/melodic/lib/python2.7/dist-packages/rosbag/bag.pyc\u001b[0m in \u001b[0;36mstart_reading\u001b[0;34m(self)\u001b[0m\n\u001b[1;32m   2665\u001b[0m \u001b[0;34m\u001b[0m\u001b[0m\n\u001b[1;32m   2666\u001b[0m             \u001b[0;32mif\u001b[0m \u001b[0;32mnot\u001b[0m \u001b[0mself\u001b[0m\u001b[0;34m.\u001b[0m\u001b[0mbag\u001b[0m\u001b[0;34m.\u001b[0m\u001b[0m_skip_index\u001b[0m\u001b[0;34m:\u001b[0m\u001b[0;34m\u001b[0m\u001b[0m\n\u001b[0;32m-> 2667\u001b[0;31m                 \u001b[0mself\u001b[0m\u001b[0;34m.\u001b[0m\u001b[0m_read_connection_index_records\u001b[0m\u001b[0;34m(\u001b[0m\u001b[0;34m)\u001b[0m\u001b[0;34m\u001b[0m\u001b[0m\n\u001b[0m\u001b[1;32m   2668\u001b[0m \u001b[0;34m\u001b[0m\u001b[0m\n\u001b[1;32m   2669\u001b[0m         \u001b[0;32mexcept\u001b[0m \u001b[0mROSBagEncryptNotSupportedException\u001b[0m\u001b[0;34m:\u001b[0m\u001b[0;34m\u001b[0m\u001b[0m\n",
      "\u001b[0;32m/opt/ros/melodic/lib/python2.7/dist-packages/rosbag/bag.pyc\u001b[0m in \u001b[0;36m_read_connection_index_records\u001b[0;34m(self)\u001b[0m\n\u001b[1;32m   2681\u001b[0m             \u001b[0mself\u001b[0m\u001b[0;34m.\u001b[0m\u001b[0mbag\u001b[0m\u001b[0;34m.\u001b[0m\u001b[0m_curr_chunk_info\u001b[0m \u001b[0;34m=\u001b[0m \u001b[0mchunk_info\u001b[0m\u001b[0;34m\u001b[0m\u001b[0m\n\u001b[1;32m   2682\u001b[0m             \u001b[0;32mfor\u001b[0m \u001b[0mi\u001b[0m \u001b[0;32min\u001b[0m \u001b[0mrange\u001b[0m\u001b[0;34m(\u001b[0m\u001b[0mlen\u001b[0m\u001b[0;34m(\u001b[0m\u001b[0mchunk_info\u001b[0m\u001b[0;34m.\u001b[0m\u001b[0mconnection_counts\u001b[0m\u001b[0;34m)\u001b[0m\u001b[0;34m)\u001b[0m\u001b[0;34m:\u001b[0m\u001b[0;34m\u001b[0m\u001b[0m\n\u001b[0;32m-> 2683\u001b[0;31m                 \u001b[0mconnection_id\u001b[0m\u001b[0;34m,\u001b[0m \u001b[0mindex\u001b[0m \u001b[0;34m=\u001b[0m \u001b[0mself\u001b[0m\u001b[0;34m.\u001b[0m\u001b[0mread_connection_index_record\u001b[0m\u001b[0;34m(\u001b[0m\u001b[0;34m)\u001b[0m\u001b[0;34m\u001b[0m\u001b[0m\n\u001b[0m\u001b[1;32m   2684\u001b[0m                 \u001b[0mself\u001b[0m\u001b[0;34m.\u001b[0m\u001b[0mbag\u001b[0m\u001b[0;34m.\u001b[0m\u001b[0m_connection_indexes\u001b[0m\u001b[0;34m[\u001b[0m\u001b[0mconnection_id\u001b[0m\u001b[0;34m]\u001b[0m\u001b[0;34m.\u001b[0m\u001b[0mextend\u001b[0m\u001b[0;34m(\u001b[0m\u001b[0mindex\u001b[0m\u001b[0;34m)\u001b[0m\u001b[0;34m\u001b[0m\u001b[0m\n\u001b[1;32m   2685\u001b[0m \u001b[0;34m\u001b[0m\u001b[0m\n",
      "\u001b[0;32m/opt/ros/melodic/lib/python2.7/dist-packages/rosbag/bag.pyc\u001b[0m in \u001b[0;36mread_connection_index_record\u001b[0;34m(self)\u001b[0m\n\u001b[1;32m   2791\u001b[0m \u001b[0;34m\u001b[0m\u001b[0m\n\u001b[1;32m   2792\u001b[0m         \u001b[0;32mfor\u001b[0m \u001b[0mi\u001b[0m \u001b[0;32min\u001b[0m \u001b[0mrange\u001b[0m\u001b[0;34m(\u001b[0m\u001b[0mcount\u001b[0m\u001b[0;34m)\u001b[0m\u001b[0;34m:\u001b[0m\u001b[0;34m\u001b[0m\u001b[0m\n\u001b[0;32m-> 2793\u001b[0;31m             \u001b[0mtime\u001b[0m   \u001b[0;34m=\u001b[0m \u001b[0m_read_time\u001b[0m  \u001b[0;34m(\u001b[0m\u001b[0mf\u001b[0m\u001b[0;34m)\u001b[0m\u001b[0;34m\u001b[0m\u001b[0m\n\u001b[0m\u001b[1;32m   2794\u001b[0m             \u001b[0moffset\u001b[0m \u001b[0;34m=\u001b[0m \u001b[0m_read_uint32\u001b[0m\u001b[0;34m(\u001b[0m\u001b[0mf\u001b[0m\u001b[0;34m)\u001b[0m\u001b[0;34m\u001b[0m\u001b[0m\n\u001b[1;32m   2795\u001b[0m \u001b[0;34m\u001b[0m\u001b[0m\n",
      "\u001b[0;32m/opt/ros/melodic/lib/python2.7/dist-packages/rosbag/bag.pyc\u001b[0m in \u001b[0;36m_read_time\u001b[0;34m(f)\u001b[0m\n\u001b[1;32m   1927\u001b[0m \u001b[0;32mdef\u001b[0m \u001b[0m_read_uint32\u001b[0m\u001b[0;34m(\u001b[0m\u001b[0mf\u001b[0m\u001b[0;34m)\u001b[0m\u001b[0;34m:\u001b[0m \u001b[0;32mreturn\u001b[0m \u001b[0m_unpack_uint32\u001b[0m\u001b[0;34m(\u001b[0m\u001b[0mf\u001b[0m\u001b[0;34m.\u001b[0m\u001b[0mread\u001b[0m\u001b[0;34m(\u001b[0m\u001b[0;36m4\u001b[0m\u001b[0;34m)\u001b[0m\u001b[0;34m)\u001b[0m\u001b[0;34m\u001b[0m\u001b[0m\n\u001b[1;32m   1928\u001b[0m \u001b[0;32mdef\u001b[0m \u001b[0m_read_uint64\u001b[0m\u001b[0;34m(\u001b[0m\u001b[0mf\u001b[0m\u001b[0;34m)\u001b[0m\u001b[0;34m:\u001b[0m \u001b[0;32mreturn\u001b[0m \u001b[0m_unpack_uint64\u001b[0m\u001b[0;34m(\u001b[0m\u001b[0mf\u001b[0m\u001b[0;34m.\u001b[0m\u001b[0mread\u001b[0m\u001b[0;34m(\u001b[0m\u001b[0;36m8\u001b[0m\u001b[0;34m)\u001b[0m\u001b[0;34m)\u001b[0m\u001b[0;34m\u001b[0m\u001b[0m\n\u001b[0;32m-> 1929\u001b[0;31m \u001b[0;32mdef\u001b[0m \u001b[0m_read_time\u001b[0m  \u001b[0;34m(\u001b[0m\u001b[0mf\u001b[0m\u001b[0;34m)\u001b[0m\u001b[0;34m:\u001b[0m \u001b[0;32mreturn\u001b[0m \u001b[0m_unpack_time\u001b[0m  \u001b[0;34m(\u001b[0m\u001b[0mf\u001b[0m\u001b[0;34m.\u001b[0m\u001b[0mread\u001b[0m\u001b[0;34m(\u001b[0m\u001b[0;36m8\u001b[0m\u001b[0;34m)\u001b[0m\u001b[0;34m)\u001b[0m\u001b[0;34m\u001b[0m\u001b[0m\n\u001b[0m\u001b[1;32m   1930\u001b[0m \u001b[0;34m\u001b[0m\u001b[0m\n\u001b[1;32m   1931\u001b[0m \u001b[0;32mdef\u001b[0m \u001b[0m_decode_bytes\u001b[0m\u001b[0;34m(\u001b[0m\u001b[0mv\u001b[0m\u001b[0;34m)\u001b[0m\u001b[0;34m:\u001b[0m  \u001b[0;32mreturn\u001b[0m \u001b[0mv\u001b[0m\u001b[0;34m\u001b[0m\u001b[0m\n",
      "\u001b[0;32m/opt/ros/melodic/lib/python2.7/dist-packages/rosbag/bag.pyc\u001b[0m in \u001b[0;36m_unpack_time\u001b[0;34m(v)\u001b[0m\n\u001b[1;32m   1934\u001b[0m \u001b[0;32mdef\u001b[0m \u001b[0m_unpack_uint32\u001b[0m\u001b[0;34m(\u001b[0m\u001b[0mv\u001b[0m\u001b[0;34m)\u001b[0m\u001b[0;34m:\u001b[0m \u001b[0;32mreturn\u001b[0m \u001b[0mstruct\u001b[0m\u001b[0;34m.\u001b[0m\u001b[0munpack\u001b[0m\u001b[0;34m(\u001b[0m\u001b[0;34m'<L'\u001b[0m\u001b[0;34m,\u001b[0m \u001b[0mv\u001b[0m\u001b[0;34m)\u001b[0m\u001b[0;34m[\u001b[0m\u001b[0;36m0\u001b[0m\u001b[0;34m]\u001b[0m\u001b[0;34m\u001b[0m\u001b[0m\n\u001b[1;32m   1935\u001b[0m \u001b[0;32mdef\u001b[0m \u001b[0m_unpack_uint64\u001b[0m\u001b[0;34m(\u001b[0m\u001b[0mv\u001b[0m\u001b[0;34m)\u001b[0m\u001b[0;34m:\u001b[0m \u001b[0;32mreturn\u001b[0m \u001b[0mstruct\u001b[0m\u001b[0;34m.\u001b[0m\u001b[0munpack\u001b[0m\u001b[0;34m(\u001b[0m\u001b[0;34m'<Q'\u001b[0m\u001b[0;34m,\u001b[0m \u001b[0mv\u001b[0m\u001b[0;34m)\u001b[0m\u001b[0;34m[\u001b[0m\u001b[0;36m0\u001b[0m\u001b[0;34m]\u001b[0m\u001b[0;34m\u001b[0m\u001b[0m\n\u001b[0;32m-> 1936\u001b[0;31m \u001b[0;32mdef\u001b[0m \u001b[0m_unpack_time\u001b[0m\u001b[0;34m(\u001b[0m\u001b[0mv\u001b[0m\u001b[0;34m)\u001b[0m\u001b[0;34m:\u001b[0m   \u001b[0;32mreturn\u001b[0m \u001b[0mrospy\u001b[0m\u001b[0;34m.\u001b[0m\u001b[0mTime\u001b[0m\u001b[0;34m(\u001b[0m\u001b[0;34m*\u001b[0m\u001b[0mstruct\u001b[0m\u001b[0;34m.\u001b[0m\u001b[0munpack\u001b[0m\u001b[0;34m(\u001b[0m\u001b[0;34m'<LL'\u001b[0m\u001b[0;34m,\u001b[0m \u001b[0mv\u001b[0m\u001b[0;34m)\u001b[0m\u001b[0;34m)\u001b[0m\u001b[0;34m\u001b[0m\u001b[0m\n\u001b[0m\u001b[1;32m   1937\u001b[0m \u001b[0;34m\u001b[0m\u001b[0m\n\u001b[1;32m   1938\u001b[0m \u001b[0;32mdef\u001b[0m \u001b[0m_pack_uint8\u001b[0m\u001b[0;34m(\u001b[0m\u001b[0mv\u001b[0m\u001b[0;34m)\u001b[0m\u001b[0;34m:\u001b[0m  \u001b[0;32mreturn\u001b[0m \u001b[0mstruct\u001b[0m\u001b[0;34m.\u001b[0m\u001b[0mpack\u001b[0m\u001b[0;34m(\u001b[0m\u001b[0;34m'<B'\u001b[0m\u001b[0;34m,\u001b[0m \u001b[0mv\u001b[0m\u001b[0;34m)\u001b[0m\u001b[0;34m\u001b[0m\u001b[0m\n",
      "\u001b[0;32m/opt/ros/melodic/lib/python2.7/dist-packages/rospy/rostime.pyc\u001b[0m in \u001b[0;36m__init__\u001b[0;34m(self, secs, nsecs)\u001b[0m\n\u001b[1;32m    136\u001b[0m         \u001b[0;34m@\u001b[0m\u001b[0mtype\u001b[0m  \u001b[0mnsecs\u001b[0m\u001b[0;34m:\u001b[0m \u001b[0mint\u001b[0m\u001b[0;34m\u001b[0m\u001b[0m\n\u001b[1;32m    137\u001b[0m         \"\"\"\n\u001b[0;32m--> 138\u001b[0;31m         \u001b[0msuper\u001b[0m\u001b[0;34m(\u001b[0m\u001b[0mTime\u001b[0m\u001b[0;34m,\u001b[0m \u001b[0mself\u001b[0m\u001b[0;34m)\u001b[0m\u001b[0;34m.\u001b[0m\u001b[0m__init__\u001b[0m\u001b[0;34m(\u001b[0m\u001b[0msecs\u001b[0m\u001b[0;34m,\u001b[0m \u001b[0mnsecs\u001b[0m\u001b[0;34m)\u001b[0m\u001b[0;34m\u001b[0m\u001b[0m\n\u001b[0m\u001b[1;32m    139\u001b[0m \u001b[0;34m\u001b[0m\u001b[0m\n\u001b[1;32m    140\u001b[0m     \u001b[0;32mdef\u001b[0m \u001b[0m__repr__\u001b[0m\u001b[0;34m(\u001b[0m\u001b[0mself\u001b[0m\u001b[0;34m)\u001b[0m\u001b[0;34m:\u001b[0m\u001b[0;34m\u001b[0m\u001b[0m\n",
      "\u001b[0;32m/opt/ros/melodic/lib/python2.7/dist-packages/genpy/rostime.pyc\u001b[0m in \u001b[0;36m__init__\u001b[0;34m(self, secs, nsecs)\u001b[0m\n\u001b[1;32m    204\u001b[0m         \u001b[0;34m:\u001b[0m\u001b[0mparam\u001b[0m \u001b[0mnsecs\u001b[0m\u001b[0;34m:\u001b[0m \u001b[0mnanoseconds\u001b[0m \u001b[0msince\u001b[0m \u001b[0mseconds\u001b[0m \u001b[0;34m(\u001b[0m\u001b[0msince\u001b[0m \u001b[0mepoch\u001b[0m\u001b[0;34m)\u001b[0m\u001b[0;34m,\u001b[0m \u001b[0;34m`\u001b[0m\u001b[0;34m`\u001b[0m\u001b[0mint\u001b[0m\u001b[0;34m`\u001b[0m\u001b[0;34m`\u001b[0m\u001b[0;34m\u001b[0m\u001b[0m\n\u001b[1;32m    205\u001b[0m         \"\"\"\n\u001b[0;32m--> 206\u001b[0;31m         \u001b[0msuper\u001b[0m\u001b[0;34m(\u001b[0m\u001b[0mTime\u001b[0m\u001b[0;34m,\u001b[0m \u001b[0mself\u001b[0m\u001b[0;34m)\u001b[0m\u001b[0;34m.\u001b[0m\u001b[0m__init__\u001b[0m\u001b[0;34m(\u001b[0m\u001b[0msecs\u001b[0m\u001b[0;34m,\u001b[0m \u001b[0mnsecs\u001b[0m\u001b[0;34m)\u001b[0m\u001b[0;34m\u001b[0m\u001b[0m\n\u001b[0m\u001b[1;32m    207\u001b[0m         \u001b[0;32mif\u001b[0m \u001b[0mself\u001b[0m\u001b[0;34m.\u001b[0m\u001b[0msecs\u001b[0m \u001b[0;34m<\u001b[0m \u001b[0;36m0\u001b[0m\u001b[0;34m:\u001b[0m\u001b[0;34m\u001b[0m\u001b[0m\n\u001b[1;32m    208\u001b[0m             \u001b[0;32mraise\u001b[0m \u001b[0mTypeError\u001b[0m\u001b[0;34m(\u001b[0m\u001b[0;34m\"time values must be positive\"\u001b[0m\u001b[0;34m)\u001b[0m\u001b[0;34m\u001b[0m\u001b[0m\n",
      "\u001b[0;32m/opt/ros/melodic/lib/python2.7/dist-packages/genpy/rostime.pyc\u001b[0m in \u001b[0;36m__init__\u001b[0;34m(self, secs, nsecs)\u001b[0m\n\u001b[1;32m     65\u001b[0m         \u001b[0;34m:\u001b[0m\u001b[0mparam\u001b[0m \u001b[0mnsecs\u001b[0m\u001b[0;34m:\u001b[0m \u001b[0mnanoseconds\u001b[0m\u001b[0;34m,\u001b[0m \u001b[0;34m`\u001b[0m\u001b[0;34m`\u001b[0m\u001b[0mint\u001b[0m\u001b[0;34m`\u001b[0m\u001b[0;34m`\u001b[0m\u001b[0;34m\u001b[0m\u001b[0m\n\u001b[1;32m     66\u001b[0m         \"\"\"\n\u001b[0;32m---> 67\u001b[0;31m         \u001b[0;32mif\u001b[0m \u001b[0;32mnot\u001b[0m \u001b[0misinstance\u001b[0m\u001b[0;34m(\u001b[0m\u001b[0msecs\u001b[0m\u001b[0;34m,\u001b[0m \u001b[0mnumbers\u001b[0m\u001b[0;34m.\u001b[0m\u001b[0mIntegral\u001b[0m\u001b[0;34m)\u001b[0m\u001b[0;34m:\u001b[0m\u001b[0;34m\u001b[0m\u001b[0m\n\u001b[0m\u001b[1;32m     68\u001b[0m             \u001b[0;31m# float secs constructor\u001b[0m\u001b[0;34m\u001b[0m\u001b[0;34m\u001b[0m\u001b[0m\n\u001b[1;32m     69\u001b[0m             \u001b[0;32mif\u001b[0m \u001b[0mnsecs\u001b[0m \u001b[0;34m!=\u001b[0m \u001b[0;36m0\u001b[0m\u001b[0;34m:\u001b[0m\u001b[0;34m\u001b[0m\u001b[0m\n",
      "\u001b[0;32m/usr/lib/python2.7/abc.pyc\u001b[0m in \u001b[0;36m__instancecheck__\u001b[0;34m(cls, instance)\u001b[0m\n\u001b[1;32m    130\u001b[0m         \u001b[0;31m# Inline the cache checking when it's simple.\u001b[0m\u001b[0;34m\u001b[0m\u001b[0;34m\u001b[0m\u001b[0m\n\u001b[1;32m    131\u001b[0m         \u001b[0msubclass\u001b[0m \u001b[0;34m=\u001b[0m \u001b[0mgetattr\u001b[0m\u001b[0;34m(\u001b[0m\u001b[0minstance\u001b[0m\u001b[0;34m,\u001b[0m \u001b[0;34m'__class__'\u001b[0m\u001b[0;34m,\u001b[0m \u001b[0mNone\u001b[0m\u001b[0;34m)\u001b[0m\u001b[0;34m\u001b[0m\u001b[0m\n\u001b[0;32m--> 132\u001b[0;31m         \u001b[0;32mif\u001b[0m \u001b[0msubclass\u001b[0m \u001b[0;32mis\u001b[0m \u001b[0;32mnot\u001b[0m \u001b[0mNone\u001b[0m \u001b[0;32mand\u001b[0m \u001b[0msubclass\u001b[0m \u001b[0;32min\u001b[0m \u001b[0mcls\u001b[0m\u001b[0;34m.\u001b[0m\u001b[0m_abc_cache\u001b[0m\u001b[0;34m:\u001b[0m\u001b[0;34m\u001b[0m\u001b[0m\n\u001b[0m\u001b[1;32m    133\u001b[0m             \u001b[0;32mreturn\u001b[0m \u001b[0mTrue\u001b[0m\u001b[0;34m\u001b[0m\u001b[0m\n\u001b[1;32m    134\u001b[0m         \u001b[0msubtype\u001b[0m \u001b[0;34m=\u001b[0m \u001b[0mtype\u001b[0m\u001b[0;34m(\u001b[0m\u001b[0minstance\u001b[0m\u001b[0;34m)\u001b[0m\u001b[0;34m\u001b[0m\u001b[0m\n",
      "\u001b[0;32m/usr/lib/python2.7/_weakrefset.pyc\u001b[0m in \u001b[0;36m__contains__\u001b[0;34m(self, item)\u001b[0m\n\u001b[1;32m     70\u001b[0m     \u001b[0;32mdef\u001b[0m \u001b[0m__contains__\u001b[0m\u001b[0;34m(\u001b[0m\u001b[0mself\u001b[0m\u001b[0;34m,\u001b[0m \u001b[0mitem\u001b[0m\u001b[0;34m)\u001b[0m\u001b[0;34m:\u001b[0m\u001b[0;34m\u001b[0m\u001b[0m\n\u001b[1;32m     71\u001b[0m         \u001b[0;32mtry\u001b[0m\u001b[0;34m:\u001b[0m\u001b[0;34m\u001b[0m\u001b[0m\n\u001b[0;32m---> 72\u001b[0;31m             \u001b[0mwr\u001b[0m \u001b[0;34m=\u001b[0m \u001b[0mref\u001b[0m\u001b[0;34m(\u001b[0m\u001b[0mitem\u001b[0m\u001b[0;34m)\u001b[0m\u001b[0;34m\u001b[0m\u001b[0m\n\u001b[0m\u001b[1;32m     73\u001b[0m         \u001b[0;32mexcept\u001b[0m \u001b[0mTypeError\u001b[0m\u001b[0;34m:\u001b[0m\u001b[0;34m\u001b[0m\u001b[0m\n\u001b[1;32m     74\u001b[0m             \u001b[0;32mreturn\u001b[0m \u001b[0mFalse\u001b[0m\u001b[0;34m\u001b[0m\u001b[0m\n",
      "\u001b[0;31mKeyboardInterrupt\u001b[0m: "
     ]
    }
   ],
   "source": [
    "centering_data = []; joints_data = [];mean_data = []\n",
    "avg_centering_data = []\n",
    "\n",
    "\n",
    "print(BOLD+'Reading Centering Errors...'+NORMAL)\n",
    "for bag in bags:\n",
    "    messages = rosbag.Bag(path+bag)\n",
    "    print('Reading {}'.format(bag))\n",
    "    dict_centering = {}\n",
    "    for topic, msg, t in messages.read_messages(topics=centering_topics):                \n",
    "        centering_data.append(msg.point.x)\n",
    "        time = t.to_time()\n",
    "        if time in dict_centering:          \n",
    "            dict_centering[t.to_time()]+= msg.point.x\n",
    "            dict_centering[t.to_time()] = dict_centering[t.to_time()]/2\n",
    "        else:\n",
    "            dict_centering[t.to_time()] = msg.point.x\n",
    "    avg_centering_data.extend(dict_centering.values())\n",
    "    \n",
    "centering_data = np.array(centering_data)\n",
    "avg_centering_data = np.array(avg_centering_data)\n",
    "\n",
    "#Reading data from joint errors\n",
    "print(BOLD+'Reading Joint Errors...'+NORMAL)\n",
    "for bag in bags:\n",
    "    messages = rosbag.Bag(path+bag)\n",
    "    print('Reading {}'.format(bag))\n",
    "    joints_data_dict = {};message_counter = 0\n",
    "    for topic, msg, t in messages.read_messages(topics=joints_topics):                \n",
    "        joints_data.append([msg.pose.covariance[0],msg.pose.covariance[7],msg.pose.covariance[14]])\n",
    "        time =t.to_time()\n",
    "        key = message_counter//14\n",
    "        message_counter+=1\n",
    "        if key in joints_data_dict:\n",
    "            joints_data_dict[key]+= [np.sqrt([msg.pose.covariance[0]+\\\n",
    "                                           msg.pose.covariance[7]+\\\n",
    "                                           msg.pose.covariance[14]])]\n",
    "        else:\n",
    "            joints_data_dict[key] = [np.sqrt([msg.pose.covariance[0]+\\\n",
    "                                           msg.pose.covariance[7]+\\\n",
    "                                           msg.pose.covariance[14]])]\n",
    "    \n",
    "    for t in joints_data_dict.keys():\n",
    "        joints_data_dict[t] = np.mean(joints_data_dict[t])\n",
    "    \n",
    "    mean_data.extend(joints_data_dict.values())\n",
    "\n",
    "data = np.sqrt(np.squeeze(np.array([joints_data]),axis=0))\n",
    "norm_joints_data = np.linalg.norm(data,axis=1)\n",
    "mean_data = np.array(mean_data)"
   ]
  },
  {
   "cell_type": "code",
   "execution_count": 85,
   "metadata": {},
   "outputs": [
    {
     "name": "stdout",
     "output_type": "stream",
     "text": [
      "\u001b[1mReading Centering Errors...\u001b[0m\n",
      "Reading ma_aircap12_2020-05-15-02-53-46.bag\n",
      "Reading ma_aircap17_2020-05-15-03-12-04.bag\n",
      "Reading ma_aircap5_2020-05-15-02-28-09.bag\n",
      "Reading ma_aircap16_2020-05-15-03-08-24.bag\n",
      "Reading ma_aircap2_2020-05-15-02-17-11.bag\n",
      "Reading ma_aircap8_2020-05-15-02-39-07.bag\n",
      "Reading ma_aircap1_2020-05-15-02-13-31.bag\n",
      "Reading ma_aircap4_2020-05-15-02-24-30.bag\n",
      "Reading ma_aircap10_2020-05-15-02-46-26.bag\n",
      "Reading ma_aircap3_2020-05-15-02-20-50.bag\n",
      "Reading ma_aircap19_2020-05-15-03-19-23.bag\n",
      "Reading ma_aircap18_2020-05-15-03-15-44.bag\n",
      "Reading ma_aircap9_2020-05-15-02-42-47.bag\n",
      "Reading ma_aircap6_2020-05-15-02-31-49.bag\n",
      "Reading ma_aircap11_2020-05-15-02-50-06.bag\n",
      "Reading ma_aircap14_2020-05-15-03-01-05.bag\n",
      "Reading ma_aircap13_2020-05-15-02-57-26.bag\n",
      "Reading ma_aircap0_2020-05-15-02-09-51.bag\n",
      "Reading ma_aircap15_2020-05-15-03-04-45.bag\n",
      "[[  65.78       1155.52974864]\n",
      " [  65.95        601.29192376]\n",
      " [  66.07        613.97048499]\n",
      " ...\n",
      " [ 185.49        235.60643982]\n",
      " [ 185.64        313.12472414]\n",
      " [ 185.78        385.83699048]]\n",
      "[[  65.95        444.83682709]\n",
      " [  66.08        491.1768579 ]\n",
      " [  66.19        532.32936465]\n",
      " ...\n",
      " [ 185.76       1155.52974864]\n",
      " [ 185.93       1155.52974864]\n",
      " [ 186.07       1155.52974864]]\n"
     ]
    }
   ],
   "source": [
    "centering_data = []; joints_data = [];mean_data = []\n",
    "dict_centering_1 = []\n",
    "dict_centering_2 = []\n",
    "\n",
    "\n",
    "print(BOLD+'Reading Centering Errors...'+NORMAL)\n",
    "for bag in bags:\n",
    "    messages = rosbag.Bag(path+bag)\n",
    "    print('Reading {}'.format(bag))\n",
    "    \n",
    "    for topic, msg, t in messages.read_messages(topics='/machine_1/centering'):                \n",
    "        time = t.to_time()\n",
    "        dict_centering_1.append([t.to_time(), msg.point.x])\n",
    "    for topic, msg, t in messages.read_messages(topics='/machine_2/centering'):                \n",
    "        time = t.to_time()\n",
    "        dict_centering_2.append([t.to_time(), msg.point.x])        \n",
    "\n",
    "dict_centering_1 = np.array(dict_centering_1)\n",
    "dict_centering_2 = np.array(dict_centering_2)\n",
    "print(dict_centering_1)\n",
    "print(dict_centering_2)\n",
    "np.savetxt(folder+\"ma_aircap_centering_robot1.csv\", dict_centering_1, delimiter=\",\")\n",
    "np.savetxt(folder+\"ma_aircap_centering_robot2.csv\", dict_centering_2, delimiter=\",\")\n"
   ]
  },
  {
   "cell_type": "markdown",
   "metadata": {},
   "source": [
    "## Boxplot and histogram of centering "
   ]
  },
  {
   "cell_type": "markdown",
   "metadata": {},
   "source": [
    "Note that the large counts in the last bin indicate that the person was lost in the image a majority of the time."
   ]
  },
  {
   "cell_type": "code",
   "execution_count": 99,
   "metadata": {},
   "outputs": [
    {
     "name": "stdout",
     "output_type": "stream",
     "text": [
      "[800.18328787 546.23439083 573.14992482 ... 356.45831464 391.11566968\n",
      " 423.61196318]\n"
     ]
    },
    {
     "data": {
      "text/plain": [
       "(array([1.550e+02, 7.280e+02, 1.019e+03, 1.270e+03, 1.771e+03, 2.449e+03,\n",
       "        2.512e+03, 1.658e+03, 4.651e+03, 2.000e+00]),\n",
       " array([  50.30500227,  178.73273836,  307.16047446,  435.58821055,\n",
       "         564.01594664,  692.44368273,  820.87141882,  949.29915491,\n",
       "        1077.726891  , 1206.1546271 , 1334.58236319]),\n",
       " <a list of 10 Patch objects>)"
      ]
     },
     "execution_count": 99,
     "metadata": {},
     "output_type": "execute_result"
    },
    {
     "data": {
      "image/png": "[encoded data removed]",
      "text/plain": [
       "<Figure size 432x288 with 2 Axes>"
      ]
     },
     "metadata": {
      "needs_background": "light"
     },
     "output_type": "display_data"
    }
   ],
   "source": [
    "\n",
    "fig1, (ax1,ax2) = plt.subplots(1,2)\n",
    "ax1.set_title('Centering BoxPlot \\n with missing person readings \\n removed')\n",
    "ax1.set_ylabel('Distance to image center')\n",
    "ax1.boxplot(mean_data, showfliers=False)\n",
    "\n",
    "ax2.set_title('Centering Histogram')\n",
    "ax2.set_xlabel('Distance to image center')\n",
    "ax2.hist(mean_data)"
   ]
  },
  {
   "cell_type": "markdown",
   "metadata": {},
   "source": [
    "## Box Plot and Histogram of Norm of Joint Errors"
   ]
  },
  {
   "cell_type": "code",
   "execution_count": 59,
   "metadata": {},
   "outputs": [
    {
     "name": "stdout",
     "output_type": "stream",
     "text": [
      "The actor was outside the frame approximately 12 % of the time\n"
     ]
    },
    {
     "data": {
      "image/png": "[encoded data removed]",
      "text/plain": [
       "<Figure size 432x288 with 2 Axes>"
      ]
     },
     "metadata": {
      "needs_background": "light"
     },
     "output_type": "display_data"
    }
   ],
   "source": [
    "fig1, (ax1,ax2) = plt.subplots(1,2)\n",
    "ax1.set_title('Joint Error Norm BoxPlot \\n (errors >10 excluded. \\n i.e subject not visible)')\n",
    "out = ax1.boxplot(mean_data[mean_data<10], showfliers=False)\n",
    "\n",
    "ax2.set_title('Joint Error Norm Histogram')\n",
    "out = ax2.hist(mean_data)\n",
    "\n",
    "print('The actor was outside the frame approximately {} % of the time'.format(100*len(norm_joints_data[norm_joints_data>10])/len(norm_joints_data)))"
   ]
  },
  {
   "cell_type": "markdown",
   "metadata": {},
   "source": [
    "## Write the numpy arrays to csv"
   ]
  },
  {
   "cell_type": "code",
   "execution_count": 60,
   "metadata": {},
   "outputs": [],
   "source": [
    "folder='csvs/'\n",
    "np.savetxt(folder+\"ma_aircap_centering.csv\", centering_data, delimiter=\",\")\n",
    "np.savetxt(folder+\"ma_aircap_avg_centering.csv\", avg_centering_data, delimiter=\",\")\n",
    "np.savetxt(folder+\"ma_aircap_mocap.csv\", data, delimiter=\",\")\n",
    "np.savetxt(folder+\"ma_aircap_mocap_norms.csv\", mean_data, delimiter=\",\")\n"
   ]
  },
  {
   "cell_type": "code",
   "execution_count": 86,
   "metadata": {},
   "outputs": [],
   "source": []
  },
  {
   "cell_type": "code",
   "execution_count": null,
   "metadata": {},
   "outputs": [],
   "source": []
  }
 ],
 "metadata": {
  "kernelspec": {
   "display_name": "Python 2.7.17 64-bit",
   "language": "python",
   "name": "python271764bitdec34bbf45eb4dbcbd1c1a4321f2985e"
  },
  "language_info": {
   "codemirror_mode": {
    "name": "ipython",
    "version": 2
   },
   "file_extension": ".py",
   "mimetype": "text/x-python",
   "name": "python",
   "nbconvert_exporter": "python",
   "pygments_lexer": "ipython2",
   "version": "2.7.17"
  }
 },
 "nbformat": 4,
 "nbformat_minor": 2
}
