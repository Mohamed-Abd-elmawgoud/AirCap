{
 "cells": [
  {
   "cell_type": "markdown",
   "metadata": {},
   "source": [
    "# Singleagent Aircap Experiments Bag Recording Scripts, Plots and CSVs\n",
    "\n",
    "Below we combine the data from from rosbags, analyse them save as csv. \n",
    "\n",
    "#### Import Libraries"
   ]
  },
  {
   "cell_type": "code",
   "execution_count": 112,
   "metadata": {},
   "outputs": [],
   "source": [
    "import rosbag\n",
    "from geometry_msgs.msg import PoseWithCovarianceStamped, PointStamped\n",
    "import os\n",
    "import matplotlib.pyplot as plt\n",
    "import numpy as np\n",
    "import random\n",
    "BOLD = '\\033[1m'\n",
    "NORMAL = '\\033[0m'"
   ]
  },
  {
   "cell_type": "markdown",
   "metadata": {},
   "source": [
    "Print All Bag Names"
   ]
  },
  {
   "cell_type": "code",
   "execution_count": 113,
   "metadata": {},
   "outputs": [
    {
     "name": "stdout",
     "output_type": "stream",
     "text": [
      "\u001b[1mList of bags:\u001b[0m['sa_aircap14_2020-05-15-01-44-15.bag', 'sa_aircap9_2020-05-15-01-28-16.bag', 'sa_aircap19_2020-05-15-02-00-10.bag', 'sa_aircap7_2020-05-15-01-21-51.bag', 'sa_aircap1_2020-05-15-01-02-45.bag', 'sa_aircap15_2020-05-15-01-47-26.bag', 'sa_aircap3_2020-05-15-01-09-07.bag', 'sa_aircap13_2020-05-15-01-41-04.bag', 'sa_aircap4_2020-05-15-01-12-18.bag', 'sa_aircap0_2020-05-15-00-59-34.bag', 'sa_aircap2_2020-05-15-01-05-57.bag', 'sa_aircap12_2020-05-15-01-37-53.bag', 'sa_aircap10_2020-05-15-01-31-27.bag', 'sa_aircap17_2020-05-15-01-53-48.bag', 'sa_aircap6_2020-05-15-01-18-40.bag', 'sa_aircap5_2020-05-15-01-15-29.bag', 'sa_aircap8_2020-05-15-01-25-06.bag', 'sa_aircap16_2020-05-15-01-50-37.bag', 'sa_aircap11_2020-05-15-01-34-42.bag', 'sa_aircap18_2020-05-15-01-56-59.bag']\n",
      "\u001b[1m\n",
      " List of Topics Recorded:\u001b[0m['/machine_1/triangulated_root_cov_0', '/machine_1/triangulated_root_cov_1', '/machine_1/triangulated_root_cov_2', '/machine_1/triangulated_root_cov_3', '/machine_1/triangulated_root_cov_4', '/machine_1/triangulated_root_cov_5', '/machine_1/triangulated_root_cov_6', '/machine_1/triangulated_root_cov_7', '/machine_1/triangulated_root_cov_8', '/machine_1/triangulated_root_cov_9', '/tf', '/machine_1/triangulated_weighted_root_cov_13', '/machine_1/triangulated_weighted_root_cov_12', '/machine_1/triangulated_weighted_root_cov_11', '/machine_1/triangulated_weighted_root_cov_10', '/machine_1/triangulated_root_cov_12', '/machine_1/triangulated_root_cov_13', '/machine_1/triangulated_root_cov_10', '/machine_1/triangulated_root_cov_11', '/centering', '/machine_1/result_alpha', '/machine_1/triangulated_weighted_root_cov_9', '/machine_1/triangulated_weighted_root_cov_8', '/machine_1/triangulated_weighted_root_cov_3', '/machine_1/triangulated_weighted_root_cov_2', '/machine_1/triangulated_weighted_root_cov_1', '/machine_1/triangulated_weighted_root_cov_0', '/machine_1/triangulated_weighted_root_cov_7', '/machine_1/triangulated_weighted_root_cov_6', '/machine_1/triangulated_weighted_root_cov_5', '/machine_1/triangulated_weighted_root_cov_4']\n"
     ]
    }
   ],
   "source": [
    "# sa or ma\n",
    "path = 'sa/'\n",
    "bags = os.listdir(path)\n",
    "print(BOLD+'List of bags:'+NORMAL+'{}'.format(bags))\n",
    "sample_bag = rosbag.Bag(path+bags[random.randint(0,20)])\n",
    "\n",
    "print(BOLD+'\\n List of Topics Recorded:'+NORMAL+'{}'.format(sample_bag.get_type_and_topic_info()[1].keys()))"
   ]
  },
  {
   "cell_type": "markdown",
   "metadata": {},
   "source": [
    "#### Choose Topics to Read"
   ]
  },
  {
   "cell_type": "code",
   "execution_count": 114,
   "metadata": {
    "scrolled": true
   },
   "outputs": [
    {
     "name": "stdout",
     "output_type": "stream",
     "text": [
      "\u001b[1mjoint error topics\u001b[0m ['/machine_1/triangulated_weighted_root_cov_0', '/machine_1/triangulated_weighted_root_cov_1', '/machine_1/triangulated_weighted_root_cov_2', '/machine_1/triangulated_weighted_root_cov_3', '/machine_1/triangulated_weighted_root_cov_4', '/machine_1/triangulated_weighted_root_cov_5', '/machine_1/triangulated_weighted_root_cov_6', '/machine_1/triangulated_weighted_root_cov_7', '/machine_1/triangulated_weighted_root_cov_8', '/machine_1/triangulated_weighted_root_cov_9', '/machine_1/triangulated_weighted_root_cov_10', '/machine_1/triangulated_weighted_root_cov_11', '/machine_1/triangulated_weighted_root_cov_12', '/machine_1/triangulated_weighted_root_cov_13']\n"
     ]
    }
   ],
   "source": [
    "centering_topics = ['/centering']\n",
    "joints_topics = []\n",
    "for machine in range(1,2):\n",
    "    for joint in range(14):\n",
    "        joints_topics.append('/machine_'+str(machine)+'/triangulated_weighted_root_cov_'+str(joint))\n",
    "print(BOLD+'joint error topics'+NORMAL+' {}'.format(joints_topics))"
   ]
  },
  {
   "cell_type": "markdown",
   "metadata": {},
   "source": [
    "#### Read chosen topics from all bags and append them to create a single array"
   ]
  },
  {
   "cell_type": "code",
   "execution_count": 115,
   "metadata": {},
   "outputs": [
    {
     "name": "stdout",
     "output_type": "stream",
     "text": [
      "\u001b[1mReading Centering Errors...\u001b[0m\n",
      "Reading sa_aircap14_2020-05-15-01-44-15.bag\n",
      "Reading sa_aircap9_2020-05-15-01-28-16.bag\n",
      "Reading sa_aircap19_2020-05-15-02-00-10.bag\n",
      "Reading sa_aircap7_2020-05-15-01-21-51.bag\n",
      "Reading sa_aircap1_2020-05-15-01-02-45.bag\n",
      "Reading sa_aircap15_2020-05-15-01-47-26.bag\n",
      "Reading sa_aircap3_2020-05-15-01-09-07.bag\n",
      "Reading sa_aircap13_2020-05-15-01-41-04.bag\n",
      "Reading sa_aircap4_2020-05-15-01-12-18.bag\n",
      "Reading sa_aircap0_2020-05-15-00-59-34.bag\n",
      "Reading sa_aircap2_2020-05-15-01-05-57.bag\n",
      "Reading sa_aircap12_2020-05-15-01-37-53.bag\n",
      "Reading sa_aircap10_2020-05-15-01-31-27.bag\n",
      "Reading sa_aircap17_2020-05-15-01-53-48.bag\n",
      "Reading sa_aircap6_2020-05-15-01-18-40.bag\n",
      "Reading sa_aircap5_2020-05-15-01-15-29.bag\n",
      "Reading sa_aircap8_2020-05-15-01-25-06.bag\n",
      "Reading sa_aircap16_2020-05-15-01-50-37.bag\n",
      "Reading sa_aircap11_2020-05-15-01-34-42.bag\n",
      "Reading sa_aircap18_2020-05-15-01-56-59.bag\n",
      "\u001b[1mReading Joint Errors...\u001b[0m\n",
      "Reading sa_aircap14_2020-05-15-01-44-15.bag\n",
      "Reading sa_aircap9_2020-05-15-01-28-16.bag\n",
      "Reading sa_aircap19_2020-05-15-02-00-10.bag\n",
      "Reading sa_aircap7_2020-05-15-01-21-51.bag\n",
      "Reading sa_aircap1_2020-05-15-01-02-45.bag\n",
      "Reading sa_aircap15_2020-05-15-01-47-26.bag\n",
      "Reading sa_aircap3_2020-05-15-01-09-07.bag\n",
      "Reading sa_aircap13_2020-05-15-01-41-04.bag\n",
      "Reading sa_aircap4_2020-05-15-01-12-18.bag\n",
      "Reading sa_aircap0_2020-05-15-00-59-34.bag\n",
      "Reading sa_aircap2_2020-05-15-01-05-57.bag\n",
      "Reading sa_aircap12_2020-05-15-01-37-53.bag\n",
      "Reading sa_aircap10_2020-05-15-01-31-27.bag\n",
      "Reading sa_aircap17_2020-05-15-01-53-48.bag\n",
      "Reading sa_aircap6_2020-05-15-01-18-40.bag\n",
      "Reading sa_aircap5_2020-05-15-01-15-29.bag\n",
      "Reading sa_aircap8_2020-05-15-01-25-06.bag\n",
      "Reading sa_aircap16_2020-05-15-01-50-37.bag\n",
      "Reading sa_aircap11_2020-05-15-01-34-42.bag\n",
      "Reading sa_aircap18_2020-05-15-01-56-59.bag\n"
     ]
    }
   ],
   "source": [
    "centering_data = []; joints_data = [];mean_data = []\n",
    "\n",
    "\n",
    "\n",
    "print(BOLD+'Reading Centering Errors...'+NORMAL)\n",
    "for bag in bags:\n",
    "    messages = rosbag.Bag(path+bag)\n",
    "    print('Reading {}'.format(bag))\n",
    "    for topic, msg, t in messages.read_messages(topics=centering_topics):                \n",
    "        centering_data.append(msg.point.x)\n",
    "centering_data = np.array(centering_data)\n",
    "        \n",
    "#Reading data from joint errors\n",
    "print(BOLD+'Reading Joint Errors...'+NORMAL)\n",
    "for bag in bags:\n",
    "    messages = rosbag.Bag(path+bag)\n",
    "    print('Reading {}'.format(bag))\n",
    "    joints_data_dict = {};message_counter = 0\n",
    "    for topic, msg, t in messages.read_messages(topics=joints_topics):                \n",
    "        joints_data.append([msg.pose.covariance[0],msg.pose.covariance[7],msg.pose.covariance[14]])\n",
    "        time =t.to_time()\n",
    "        key = message_counter//14\n",
    "        message_counter+=1\n",
    "        if key in joints_data_dict:\n",
    "            joints_data_dict[key]+= [np.sqrt([msg.pose.covariance[0]+\\\n",
    "                                           msg.pose.covariance[7]+\\\n",
    "                                           msg.pose.covariance[14]])]\n",
    "        else:\n",
    "            joints_data_dict[key] = [np.sqrt([msg.pose.covariance[0]+\\\n",
    "                                           msg.pose.covariance[7]+\\\n",
    "                                           msg.pose.covariance[14]])]\n",
    "    \n",
    "    for t in joints_data_dict.keys():\n",
    "        joints_data_dict[t] = np.mean(joints_data_dict[t])\n",
    "    \n",
    "    mean_data.extend(joints_data_dict.values())\n",
    "\n",
    "data = np.sqrt(np.squeeze(np.array([joints_data]),axis=0))\n",
    "norm_joints_data = np.linalg.norm(data,axis=1)\n",
    "mean_data = np.array(mean_data)"
   ]
  },
  {
   "cell_type": "markdown",
   "metadata": {},
   "source": [
    "## Boxplot and histogram of centering "
   ]
  },
  {
   "cell_type": "markdown",
   "metadata": {},
   "source": [
    "Note that the large counts in the last bin indicate that the person was lost in the image a majority of the time."
   ]
  },
  {
   "cell_type": "code",
   "execution_count": 116,
   "metadata": {},
   "outputs": [
    {
     "data": {
      "image/png": "[encoded data removed]",
      "text/plain": [
       "<Figure size 432x288 with 2 Axes>"
      ]
     },
     "metadata": {
      "needs_background": "light"
     },
     "output_type": "display_data"
    }
   ],
   "source": [
    "fig1, (ax1,ax2) = plt.subplots(1,2)\n",
    "ax1.set_title('Centering BoxPlot \\n with missing person readings \\n removed')\n",
    "ax1.set_ylabel('Distance to image center')\n",
    "ax1.boxplot(centering_data[centering_data<1100], showfliers=False)\n",
    "\n",
    "ax2.set_title('Centering Histogram')\n",
    "ax2.set_xlabel('Distance to image center')\n",
    "ax2.hist(centering_data)\n",
    "\n",
    "plt.show()"
   ]
  },
  {
   "cell_type": "markdown",
   "metadata": {},
   "source": [
    "## Box Plot and Histogram of Norm of Joint Errors"
   ]
  },
  {
   "cell_type": "code",
   "execution_count": 117,
   "metadata": {},
   "outputs": [
    {
     "name": "stdout",
     "output_type": "stream",
     "text": [
      "\u001b[1mThe actor was outside the frame approximately 49 % of the time\n"
     ]
    },
    {
     "data": {
      "image/png": "[encoded data removed]",
      "text/plain": [
       "<Figure size 432x288 with 2 Axes>"
      ]
     },
     "metadata": {
      "needs_background": "light"
     },
     "output_type": "display_data"
    }
   ],
   "source": [
    "fig1, (ax1,ax2) = plt.subplots(1,2)\n",
    "ax1.set_title('Joint Error Norm BoxPlot \\n (errors >10 excluded. \\n i.e subject not visible)')\n",
    "out = ax1.boxplot(mean_data[:], showfliers=False)\n",
    "\n",
    "ax2.set_title('Joint Error Norm Histogram')\n",
    "out = ax2.hist(mean_data)\n",
    "\n",
    "\n",
    "print(BOLD+'The actor was outside the frame approximately {} % of the time'.format(100*len(norm_joints_data[norm_joints_data>10])/len(norm_joints_data)))"
   ]
  },
  {
   "cell_type": "markdown",
   "metadata": {},
   "source": [
    "## Write the numpy arrays to csv"
   ]
  },
  {
   "cell_type": "code",
   "execution_count": 118,
   "metadata": {},
   "outputs": [],
   "source": [
    "folder='csvs/'\n",
    "np.savetxt(folder+\"sa_aircap_centering.csv\", centering_data, delimiter=\",\")\n",
    "np.savetxt(folder+\"sa_aircap_mocap.csv\", data, delimiter=\",\")\n",
    "np.savetxt(folder+\"sa_aircap_mocap_norms.csv\", mean_data, delimiter=\",\")"
   ]
  },
  {
   "cell_type": "code",
   "execution_count": null,
   "metadata": {},
   "outputs": [],
   "source": []
  }
 ],
 "metadata": {
  "kernelspec": {
   "display_name": "Python 2.7.17 64-bit",
   "language": "python",
   "name": "python271764bitdec34bbf45eb4dbcbd1c1a4321f2985e"
  },
  "language_info": {
   "codemirror_mode": {
    "name": "ipython",
    "version": 2
   },
   "file_extension": ".py",
   "mimetype": "text/x-python",
   "name": "python",
   "nbconvert_exporter": "python",
   "pygments_lexer": "ipython2",
   "version": "2.7.17"
  }
 },
 "nbformat": 4,
 "nbformat_minor": 2
}
